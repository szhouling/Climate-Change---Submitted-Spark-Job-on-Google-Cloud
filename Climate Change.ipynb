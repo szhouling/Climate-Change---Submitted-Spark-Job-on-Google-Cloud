{
  "cells": [
    {
      "cell_type": "markdown",
      "metadata": {
        "id": "fE7HrmOUJGto"
      },
      "source": [
        "# Setting up Spark Instance"
      ]
    },
    {
      "cell_type": "code",
      "execution_count": 1,
      "metadata": {
        "colab": {
          "base_uri": "https://localhost:8080/"
        },
        "id": "jMR42LyGTi1u",
        "outputId": "73a6ba54-540d-4fbf-d1ff-c8234b907e2c"
      },
      "outputs": [
        {
          "name": "stdout",
          "output_type": "stream",
          "text": [
            "Collecting pyspark\n",
            "  Downloading pyspark-3.5.1.tar.gz (317.0 MB)\n",
            "\u001b[2K     \u001b[90m━━━━━━━━━━━━━━━━━━━━━━━━━━━━━━━━━━━━━━━━\u001b[0m \u001b[32m317.0/317.0 MB\u001b[0m \u001b[31m2.7 MB/s\u001b[0m eta \u001b[36m0:00:00\u001b[0m\n",
            "\u001b[?25h  Preparing metadata (setup.py) ... \u001b[?25l\u001b[?25hdone\n",
            "Requirement already satisfied: py4j==0.10.9.7 in /usr/local/lib/python3.10/dist-packages (from pyspark) (0.10.9.7)\n",
            "Building wheels for collected packages: pyspark\n",
            "  Building wheel for pyspark (setup.py) ... \u001b[?25l\u001b[?25hdone\n",
            "  Created wheel for pyspark: filename=pyspark-3.5.1-py2.py3-none-any.whl size=317488491 sha256=2904a45e738c25c408ec57fed3e75d5f56cac42acaa3dcf26aed273e8a876ac3\n",
            "  Stored in directory: /root/.cache/pip/wheels/80/1d/60/2c256ed38dddce2fdd93be545214a63e02fbd8d74fb0b7f3a6\n",
            "Successfully built pyspark\n",
            "Installing collected packages: pyspark\n",
            "Successfully installed pyspark-3.5.1\n"
          ]
        }
      ],
      "source": [
        "!apt-get install openjdk-8-jdk-headless -qq > /dev/null  # Install Java\n",
        "!wget -q https://archive.apache.org/dist/spark/spark-3.4.1/spark-3.4.1-bin-hadoop3.tgz  # Download Spark\n",
        "!tar xf spark-3.4.1-bin-hadoop3.tgz  # Unpack Spark\n",
        "!pip install -q findspark  # Install findspark, a Python library for finding Spark\n",
        "!pip install pyspark  # Install PySpark\n"
      ]
    },
    {
      "cell_type": "code",
      "execution_count": 2,
      "metadata": {
        "colab": {
          "base_uri": "https://localhost:8080/"
        },
        "id": "zecGr2YNiJFL",
        "outputId": "bb5dbc8f-7be5-4314-b4fb-b60eb7f81ab1"
      },
      "outputs": [
        {
          "name": "stdout",
          "output_type": "stream",
          "text": [
            "Collecting pyspark==3.4.1\n",
            "  Downloading pyspark-3.4.1.tar.gz (310.8 MB)\n",
            "\u001b[2K     \u001b[90m━━━━━━━━━━━━━━━━━━━━━━━━━━━━━━━━━━━━━━━━\u001b[0m \u001b[32m310.8/310.8 MB\u001b[0m \u001b[31m2.5 MB/s\u001b[0m eta \u001b[36m0:00:00\u001b[0m\n",
            "\u001b[?25h  Preparing metadata (setup.py) ... \u001b[?25l\u001b[?25hdone\n",
            "Requirement already satisfied: py4j==0.10.9.7 in /usr/local/lib/python3.10/dist-packages (from pyspark==3.4.1) (0.10.9.7)\n",
            "Building wheels for collected packages: pyspark\n",
            "  Building wheel for pyspark (setup.py) ... \u001b[?25l\u001b[?25hdone\n",
            "  Created wheel for pyspark: filename=pyspark-3.4.1-py2.py3-none-any.whl size=311285388 sha256=66f8fc95474f3c7895b0f3a9fe50ed1297bab1801f79a62b6a42f90352bad415\n",
            "  Stored in directory: /root/.cache/pip/wheels/0d/77/a3/ff2f74cc9ab41f8f594dabf0579c2a7c6de920d584206e0834\n",
            "Successfully built pyspark\n",
            "Installing collected packages: pyspark\n",
            "  Attempting uninstall: pyspark\n",
            "    Found existing installation: pyspark 3.5.1\n",
            "    Uninstalling pyspark-3.5.1:\n",
            "      Successfully uninstalled pyspark-3.5.1\n",
            "Successfully installed pyspark-3.4.1\n"
          ]
        }
      ],
      "source": [
        "!pip install pyspark==3.4.1"
      ]
    },
    {
      "cell_type": "code",
      "execution_count": 3,
      "metadata": {
        "id": "yVpnajcvVbIu"
      },
      "outputs": [],
      "source": [
        "import os\n",
        "from pyspark.sql import SparkSession\n",
        "# Define Java and Spark home path in Google Colab\n",
        "os.environ[\"JAVA_HOME\"] = \"/usr/lib/jvm/java-8-openjdk-amd64\"\n",
        "os.environ[\"SPARK_HOME\"] = \"/content/spark-3.4.1-bin-hadoop3\""
      ]
    },
    {
      "cell_type": "code",
      "execution_count": 4,
      "metadata": {
        "id": "8ahknOigYPIS"
      },
      "outputs": [],
      "source": [
        "import findspark\n",
        "findspark.init()"
      ]
    },
    {
      "cell_type": "code",
      "execution_count": 5,
      "metadata": {
        "id": "oY6APnWyYRNc"
      },
      "outputs": [],
      "source": [
        "# Initialize a SparkSession\n",
        "spark = SparkSession.builder \\\n",
        " .appName(\"CSV to DataFrame\") \\\n",
        " .getOrCreate()"
      ]
    },
    {
      "cell_type": "code",
      "execution_count": 6,
      "metadata": {
        "colab": {
          "base_uri": "https://localhost:8080/",
          "height": 90
        },
        "id": "1jEil4eCYZAP",
        "outputId": "33b701a2-1744-4b4f-c503-6f3266b93483"
      },
      "outputs": [
        {
          "data": {
            "text/html": [
              "\n",
              "     <input type=\"file\" id=\"files-2ed6ae75-93cb-4248-9073-7dac82ff82c8\" name=\"files[]\" multiple disabled\n",
              "        style=\"border:none\" />\n",
              "     <output id=\"result-2ed6ae75-93cb-4248-9073-7dac82ff82c8\">\n",
              "      Upload widget is only available when the cell has been executed in the\n",
              "      current browser session. Please rerun this cell to enable.\n",
              "      </output>\n",
              "      <script>// Copyright 2017 Google LLC\n",
              "//\n",
              "// Licensed under the Apache License, Version 2.0 (the \"License\");\n",
              "// you may not use this file except in compliance with the License.\n",
              "// You may obtain a copy of the License at\n",
              "//\n",
              "//      http://www.apache.org/licenses/LICENSE-2.0\n",
              "//\n",
              "// Unless required by applicable law or agreed to in writing, software\n",
              "// distributed under the License is distributed on an \"AS IS\" BASIS,\n",
              "// WITHOUT WARRANTIES OR CONDITIONS OF ANY KIND, either express or implied.\n",
              "// See the License for the specific language governing permissions and\n",
              "// limitations under the License.\n",
              "\n",
              "/**\n",
              " * @fileoverview Helpers for google.colab Python module.\n",
              " */\n",
              "(function(scope) {\n",
              "function span(text, styleAttributes = {}) {\n",
              "  const element = document.createElement('span');\n",
              "  element.textContent = text;\n",
              "  for (const key of Object.keys(styleAttributes)) {\n",
              "    element.style[key] = styleAttributes[key];\n",
              "  }\n",
              "  return element;\n",
              "}\n",
              "\n",
              "// Max number of bytes which will be uploaded at a time.\n",
              "const MAX_PAYLOAD_SIZE = 100 * 1024;\n",
              "\n",
              "function _uploadFiles(inputId, outputId) {\n",
              "  const steps = uploadFilesStep(inputId, outputId);\n",
              "  const outputElement = document.getElementById(outputId);\n",
              "  // Cache steps on the outputElement to make it available for the next call\n",
              "  // to uploadFilesContinue from Python.\n",
              "  outputElement.steps = steps;\n",
              "\n",
              "  return _uploadFilesContinue(outputId);\n",
              "}\n",
              "\n",
              "// This is roughly an async generator (not supported in the browser yet),\n",
              "// where there are multiple asynchronous steps and the Python side is going\n",
              "// to poll for completion of each step.\n",
              "// This uses a Promise to block the python side on completion of each step,\n",
              "// then passes the result of the previous step as the input to the next step.\n",
              "function _uploadFilesContinue(outputId) {\n",
              "  const outputElement = document.getElementById(outputId);\n",
              "  const steps = outputElement.steps;\n",
              "\n",
              "  const next = steps.next(outputElement.lastPromiseValue);\n",
              "  return Promise.resolve(next.value.promise).then((value) => {\n",
              "    // Cache the last promise value to make it available to the next\n",
              "    // step of the generator.\n",
              "    outputElement.lastPromiseValue = value;\n",
              "    return next.value.response;\n",
              "  });\n",
              "}\n",
              "\n",
              "/**\n",
              " * Generator function which is called between each async step of the upload\n",
              " * process.\n",
              " * @param {string} inputId Element ID of the input file picker element.\n",
              " * @param {string} outputId Element ID of the output display.\n",
              " * @return {!Iterable<!Object>} Iterable of next steps.\n",
              " */\n",
              "function* uploadFilesStep(inputId, outputId) {\n",
              "  const inputElement = document.getElementById(inputId);\n",
              "  inputElement.disabled = false;\n",
              "\n",
              "  const outputElement = document.getElementById(outputId);\n",
              "  outputElement.innerHTML = '';\n",
              "\n",
              "  const pickedPromise = new Promise((resolve) => {\n",
              "    inputElement.addEventListener('change', (e) => {\n",
              "      resolve(e.target.files);\n",
              "    });\n",
              "  });\n",
              "\n",
              "  const cancel = document.createElement('button');\n",
              "  inputElement.parentElement.appendChild(cancel);\n",
              "  cancel.textContent = 'Cancel upload';\n",
              "  const cancelPromise = new Promise((resolve) => {\n",
              "    cancel.onclick = () => {\n",
              "      resolve(null);\n",
              "    };\n",
              "  });\n",
              "\n",
              "  // Wait for the user to pick the files.\n",
              "  const files = yield {\n",
              "    promise: Promise.race([pickedPromise, cancelPromise]),\n",
              "    response: {\n",
              "      action: 'starting',\n",
              "    }\n",
              "  };\n",
              "\n",
              "  cancel.remove();\n",
              "\n",
              "  // Disable the input element since further picks are not allowed.\n",
              "  inputElement.disabled = true;\n",
              "\n",
              "  if (!files) {\n",
              "    return {\n",
              "      response: {\n",
              "        action: 'complete',\n",
              "      }\n",
              "    };\n",
              "  }\n",
              "\n",
              "  for (const file of files) {\n",
              "    const li = document.createElement('li');\n",
              "    li.append(span(file.name, {fontWeight: 'bold'}));\n",
              "    li.append(span(\n",
              "        `(${file.type || 'n/a'}) - ${file.size} bytes, ` +\n",
              "        `last modified: ${\n",
              "            file.lastModifiedDate ? file.lastModifiedDate.toLocaleDateString() :\n",
              "                                    'n/a'} - `));\n",
              "    const percent = span('0% done');\n",
              "    li.appendChild(percent);\n",
              "\n",
              "    outputElement.appendChild(li);\n",
              "\n",
              "    const fileDataPromise = new Promise((resolve) => {\n",
              "      const reader = new FileReader();\n",
              "      reader.onload = (e) => {\n",
              "        resolve(e.target.result);\n",
              "      };\n",
              "      reader.readAsArrayBuffer(file);\n",
              "    });\n",
              "    // Wait for the data to be ready.\n",
              "    let fileData = yield {\n",
              "      promise: fileDataPromise,\n",
              "      response: {\n",
              "        action: 'continue',\n",
              "      }\n",
              "    };\n",
              "\n",
              "    // Use a chunked sending to avoid message size limits. See b/62115660.\n",
              "    let position = 0;\n",
              "    do {\n",
              "      const length = Math.min(fileData.byteLength - position, MAX_PAYLOAD_SIZE);\n",
              "      const chunk = new Uint8Array(fileData, position, length);\n",
              "      position += length;\n",
              "\n",
              "      const base64 = btoa(String.fromCharCode.apply(null, chunk));\n",
              "      yield {\n",
              "        response: {\n",
              "          action: 'append',\n",
              "          file: file.name,\n",
              "          data: base64,\n",
              "        },\n",
              "      };\n",
              "\n",
              "      let percentDone = fileData.byteLength === 0 ?\n",
              "          100 :\n",
              "          Math.round((position / fileData.byteLength) * 100);\n",
              "      percent.textContent = `${percentDone}% done`;\n",
              "\n",
              "    } while (position < fileData.byteLength);\n",
              "  }\n",
              "\n",
              "  // All done.\n",
              "  yield {\n",
              "    response: {\n",
              "      action: 'complete',\n",
              "    }\n",
              "  };\n",
              "}\n",
              "\n",
              "scope.google = scope.google || {};\n",
              "scope.google.colab = scope.google.colab || {};\n",
              "scope.google.colab._files = {\n",
              "  _uploadFiles,\n",
              "  _uploadFilesContinue,\n",
              "};\n",
              "})(self);\n",
              "</script> "
            ],
            "text/plain": [
              "<IPython.core.display.HTML object>"
            ]
          },
          "metadata": {},
          "output_type": "display_data"
        },
        {
          "name": "stdout",
          "output_type": "stream",
          "text": [
            "Saving 2015-summary.csv to 2015-summary.csv\n",
            "User uploaded file \"2015-summary.csv\" with length 7080 bytes\n"
          ]
        }
      ],
      "source": [
        "from google.colab import files\n",
        "\n",
        "uploaded = files.upload()\n",
        "\n",
        "for filename in uploaded.keys():\n",
        "  print('User uploaded file \"{name}\" with length {length} bytes'.format(\n",
        "      name=filename, length=len(uploaded[filename])))"
      ]
    },
    {
      "cell_type": "code",
      "execution_count": 7,
      "metadata": {
        "colab": {
          "base_uri": "https://localhost:8080/"
        },
        "id": "yQabe6a5YuGX",
        "outputId": "722a6c34-e898-4926-db3f-121d7ae83086"
      },
      "outputs": [
        {
          "name": "stdout",
          "output_type": "stream",
          "text": [
            "+--------------------+-------------------+-----+\n",
            "|   DEST_COUNTRY_NAME|ORIGIN_COUNTRY_NAME|count|\n",
            "+--------------------+-------------------+-----+\n",
            "|       United States|            Romania|   15|\n",
            "|       United States|            Croatia|    1|\n",
            "|       United States|            Ireland|  344|\n",
            "|               Egypt|      United States|   15|\n",
            "|       United States|              India|   62|\n",
            "|       United States|          Singapore|    1|\n",
            "|       United States|            Grenada|   62|\n",
            "|          Costa Rica|      United States|  588|\n",
            "|             Senegal|      United States|   40|\n",
            "|             Moldova|      United States|    1|\n",
            "|       United States|       Sint Maarten|  325|\n",
            "|       United States|   Marshall Islands|   39|\n",
            "|              Guyana|      United States|   64|\n",
            "|               Malta|      United States|    1|\n",
            "|            Anguilla|      United States|   41|\n",
            "|             Bolivia|      United States|   30|\n",
            "|       United States|           Paraguay|    6|\n",
            "|             Algeria|      United States|    4|\n",
            "|Turks and Caicos ...|      United States|  230|\n",
            "|       United States|          Gibraltar|    1|\n",
            "+--------------------+-------------------+-----+\n",
            "only showing top 20 rows\n",
            "\n"
          ]
        }
      ],
      "source": [
        "flightData2015 = spark.read.option(\"inferSchema\", \"true\").option(\"header\", \"true\").csv(\"2015-summary.csv\")\n",
        "flightData2015.show()"
      ]
    },
    {
      "cell_type": "code",
      "execution_count": 8,
      "metadata": {
        "colab": {
          "base_uri": "https://localhost:8080/"
        },
        "id": "d1bEi3d9ZT22",
        "outputId": "343242e5-214e-467c-b0d0-f470f74900c6"
      },
      "outputs": [
        {
          "data": {
            "text/plain": [
              "[Row(DEST_COUNTRY_NAME='United States', ORIGIN_COUNTRY_NAME='Romania', count=15),\n",
              " Row(DEST_COUNTRY_NAME='United States', ORIGIN_COUNTRY_NAME='Croatia', count=1),\n",
              " Row(DEST_COUNTRY_NAME='United States', ORIGIN_COUNTRY_NAME='Ireland', count=344)]"
            ]
          },
          "execution_count": 8,
          "metadata": {},
          "output_type": "execute_result"
        }
      ],
      "source": [
        "flightData2015.take(3)"
      ]
    },
    {
      "cell_type": "code",
      "execution_count": 9,
      "metadata": {
        "colab": {
          "base_uri": "https://localhost:8080/"
        },
        "id": "11VLkk2TeFot",
        "outputId": "1734e664-8a61-4545-b4e4-fb87ede5f9b4"
      },
      "outputs": [
        {
          "name": "stdout",
          "output_type": "stream",
          "text": [
            "== Physical Plan ==\n",
            "AdaptiveSparkPlan isFinalPlan=false\n",
            "+- Sort [count#19 ASC NULLS FIRST], true, 0\n",
            "   +- Exchange rangepartitioning(count#19 ASC NULLS FIRST, 200), ENSURE_REQUIREMENTS, [plan_id=45]\n",
            "      +- FileScan csv [DEST_COUNTRY_NAME#17,ORIGIN_COUNTRY_NAME#18,count#19] Batched: false, DataFilters: [], Format: CSV, Location: InMemoryFileIndex(1 paths)[file:/content/2015-summary.csv], PartitionFilters: [], PushedFilters: [], ReadSchema: struct<DEST_COUNTRY_NAME:string,ORIGIN_COUNTRY_NAME:string,count:int>\n",
            "\n",
            "\n"
          ]
        }
      ],
      "source": [
        "flightData2015.sort(\"count\").explain()"
      ]
    },
    {
      "cell_type": "code",
      "execution_count": 10,
      "metadata": {
        "colab": {
          "base_uri": "https://localhost:8080/"
        },
        "id": "zjXGDoLsedLt",
        "outputId": "12f5d92a-216c-4290-c914-6b19b5c23204"
      },
      "outputs": [
        {
          "data": {
            "text/plain": [
              "[Row(DEST_COUNTRY_NAME='United States', ORIGIN_COUNTRY_NAME='Singapore', count=1),\n",
              " Row(DEST_COUNTRY_NAME='Moldova', ORIGIN_COUNTRY_NAME='United States', count=1)]"
            ]
          },
          "execution_count": 10,
          "metadata": {},
          "output_type": "execute_result"
        }
      ],
      "source": [
        "spark.conf.set(\"spark.sql.shuffle.partitions\", \"5\")\n",
        "flightData2015.sort(\"count\").take(2)"
      ]
    },
    {
      "cell_type": "code",
      "execution_count": 11,
      "metadata": {
        "colab": {
          "base_uri": "https://localhost:8080/"
        },
        "id": "dOroSc41f-a6",
        "outputId": "fda300b9-0ad9-4c07-f2ac-e4dfe92f2b19"
      },
      "outputs": [
        {
          "name": "stdout",
          "output_type": "stream",
          "text": [
            "== Physical Plan ==\n",
            "AdaptiveSparkPlan isFinalPlan=false\n",
            "+- HashAggregate(keys=[DEST_COUNTRY_NAME#17], functions=[count(1)])\n",
            "   +- Exchange hashpartitioning(DEST_COUNTRY_NAME#17, 5), ENSURE_REQUIREMENTS, [plan_id=67]\n",
            "      +- HashAggregate(keys=[DEST_COUNTRY_NAME#17], functions=[partial_count(1)])\n",
            "         +- FileScan csv [DEST_COUNTRY_NAME#17] Batched: false, DataFilters: [], Format: CSV, Location: InMemoryFileIndex(1 paths)[file:/content/2015-summary.csv], PartitionFilters: [], PushedFilters: [], ReadSchema: struct<DEST_COUNTRY_NAME:string>\n",
            "\n",
            "\n",
            "== Physical Plan ==\n",
            "AdaptiveSparkPlan isFinalPlan=false\n",
            "+- HashAggregate(keys=[DEST_COUNTRY_NAME#17], functions=[count(1)])\n",
            "   +- Exchange hashpartitioning(DEST_COUNTRY_NAME#17, 5), ENSURE_REQUIREMENTS, [plan_id=80]\n",
            "      +- HashAggregate(keys=[DEST_COUNTRY_NAME#17], functions=[partial_count(1)])\n",
            "         +- FileScan csv [DEST_COUNTRY_NAME#17] Batched: false, DataFilters: [], Format: CSV, Location: InMemoryFileIndex(1 paths)[file:/content/2015-summary.csv], PartitionFilters: [], PushedFilters: [], ReadSchema: struct<DEST_COUNTRY_NAME:string>\n",
            "\n",
            "\n"
          ]
        }
      ],
      "source": [
        "flightData2015.createOrReplaceTempView(\"flight_data_2015\")\n",
        "# SQL way to group by and count\n",
        "sqlWay = spark.sql(\"\"\"\n",
        "SELECT DEST_COUNTRY_NAME, count(1) as count\n",
        "FROM flight_data_2015\n",
        "GROUP BY DEST_COUNTRY_NAME\n",
        "\"\"\")\n",
        "\n",
        "# DataFrame way to group by and count\n",
        "dataFrameWay = flightData2015.groupBy(\"DEST_COUNTRY_NAME\").count()\n",
        "\n",
        "# Show the execution plan for both methods\n",
        "sqlWay.explain()\n",
        "dataFrameWay.explain()"
      ]
    },
    {
      "cell_type": "code",
      "execution_count": 12,
      "metadata": {
        "colab": {
          "base_uri": "https://localhost:8080/"
        },
        "id": "QsLLQS5b56b4",
        "outputId": "5c79d877-28bf-4d81-ca1c-0896173310f6"
      },
      "outputs": [
        {
          "data": {
            "text/plain": [
              "[Row(max(count)=370002)]"
            ]
          },
          "execution_count": 12,
          "metadata": {},
          "output_type": "execute_result"
        }
      ],
      "source": [
        "spark.sql(\"SELECT max(count) from flight_data_2015\").take(1)\n",
        "from pyspark.sql.functions import max\n",
        "flightData2015.select(max(\"count\")).take(1)"
      ]
    },
    {
      "cell_type": "code",
      "execution_count": 13,
      "metadata": {
        "colab": {
          "base_uri": "https://localhost:8080/"
        },
        "id": "bOJZIPv97kyj",
        "outputId": "3d8cc9bc-ac65-4c61-d4fc-97dee329d6d9"
      },
      "outputs": [
        {
          "name": "stdout",
          "output_type": "stream",
          "text": [
            "+-----------------+-----------------+\n",
            "|DEST_COUNTRY_NAME|destination_total|\n",
            "+-----------------+-----------------+\n",
            "|    United States|           411352|\n",
            "|           Canada|             8399|\n",
            "|           Mexico|             7140|\n",
            "|   United Kingdom|             2025|\n",
            "|            Japan|             1548|\n",
            "+-----------------+-----------------+\n",
            "\n"
          ]
        }
      ],
      "source": [
        "maxSql = spark.sql(\"\"\"\n",
        "select DEST_COUNTRY_NAME, sum(count) as destination_total\n",
        "from flight_data_2015\n",
        "group by DEST_COUNTRY_NAME\n",
        "order by sum(count) DESC\n",
        "limit 5\n",
        "\"\"\")\n",
        "maxSql.show()"
      ]
    },
    {
      "cell_type": "code",
      "execution_count": 14,
      "metadata": {
        "colab": {
          "base_uri": "https://localhost:8080/"
        },
        "id": "SUEyMT_G8hbI",
        "outputId": "f78d4cb3-803e-4982-81e3-fe1a4b2ab2f5"
      },
      "outputs": [
        {
          "name": "stdout",
          "output_type": "stream",
          "text": [
            "+-----------------+-----------------+\n",
            "|DEST_COUNTRY_NAME|destination_total|\n",
            "+-----------------+-----------------+\n",
            "|    United States|           411352|\n",
            "|           Canada|             8399|\n",
            "|           Mexico|             7140|\n",
            "|   United Kingdom|             2025|\n",
            "|            Japan|             1548|\n",
            "+-----------------+-----------------+\n",
            "\n"
          ]
        }
      ],
      "source": [
        "from pyspark.sql.functions import desc\n",
        "\n",
        "flightData2015\\\n",
        "  .groupBy(\"DEST_COUNTRY_NAME\")\\\n",
        "  .sum(\"count\")\\\n",
        "  .withColumnRenamed(\"sum(count)\", \"destination_total\")\\\n",
        "  .sort(desc(\"destination_total\"))\\\n",
        "  .limit(5)\\\n",
        "  .show()"
      ]
    },
    {
      "cell_type": "markdown",
      "metadata": {
        "id": "uuQK4lDcJMHb"
      },
      "source": [
        "# Climate Change\n"
      ]
    },
    {
      "cell_type": "markdown",
      "metadata": {
        "id": "8K3p1ZZjeVL2"
      },
      "source": [
        "## First Dataset"
      ]
    },
    {
      "cell_type": "code",
      "execution_count": 15,
      "metadata": {
        "colab": {
          "base_uri": "https://localhost:8080/",
          "height": 524
        },
        "id": "a6TPP9AXX9Ju",
        "outputId": "31f7370c-2a75-4cd5-975c-bbdbf1e1d6f3"
      },
      "outputs": [
        {
          "data": {
            "text/html": [
              "\n",
              "     <input type=\"file\" id=\"files-72fa6727-e8e0-4853-b814-47a1c7ba2c5d\" name=\"files[]\" multiple disabled\n",
              "        style=\"border:none\" />\n",
              "     <output id=\"result-72fa6727-e8e0-4853-b814-47a1c7ba2c5d\">\n",
              "      Upload widget is only available when the cell has been executed in the\n",
              "      current browser session. Please rerun this cell to enable.\n",
              "      </output>\n",
              "      <script>// Copyright 2017 Google LLC\n",
              "//\n",
              "// Licensed under the Apache License, Version 2.0 (the \"License\");\n",
              "// you may not use this file except in compliance with the License.\n",
              "// You may obtain a copy of the License at\n",
              "//\n",
              "//      http://www.apache.org/licenses/LICENSE-2.0\n",
              "//\n",
              "// Unless required by applicable law or agreed to in writing, software\n",
              "// distributed under the License is distributed on an \"AS IS\" BASIS,\n",
              "// WITHOUT WARRANTIES OR CONDITIONS OF ANY KIND, either express or implied.\n",
              "// See the License for the specific language governing permissions and\n",
              "// limitations under the License.\n",
              "\n",
              "/**\n",
              " * @fileoverview Helpers for google.colab Python module.\n",
              " */\n",
              "(function(scope) {\n",
              "function span(text, styleAttributes = {}) {\n",
              "  const element = document.createElement('span');\n",
              "  element.textContent = text;\n",
              "  for (const key of Object.keys(styleAttributes)) {\n",
              "    element.style[key] = styleAttributes[key];\n",
              "  }\n",
              "  return element;\n",
              "}\n",
              "\n",
              "// Max number of bytes which will be uploaded at a time.\n",
              "const MAX_PAYLOAD_SIZE = 100 * 1024;\n",
              "\n",
              "function _uploadFiles(inputId, outputId) {\n",
              "  const steps = uploadFilesStep(inputId, outputId);\n",
              "  const outputElement = document.getElementById(outputId);\n",
              "  // Cache steps on the outputElement to make it available for the next call\n",
              "  // to uploadFilesContinue from Python.\n",
              "  outputElement.steps = steps;\n",
              "\n",
              "  return _uploadFilesContinue(outputId);\n",
              "}\n",
              "\n",
              "// This is roughly an async generator (not supported in the browser yet),\n",
              "// where there are multiple asynchronous steps and the Python side is going\n",
              "// to poll for completion of each step.\n",
              "// This uses a Promise to block the python side on completion of each step,\n",
              "// then passes the result of the previous step as the input to the next step.\n",
              "function _uploadFilesContinue(outputId) {\n",
              "  const outputElement = document.getElementById(outputId);\n",
              "  const steps = outputElement.steps;\n",
              "\n",
              "  const next = steps.next(outputElement.lastPromiseValue);\n",
              "  return Promise.resolve(next.value.promise).then((value) => {\n",
              "    // Cache the last promise value to make it available to the next\n",
              "    // step of the generator.\n",
              "    outputElement.lastPromiseValue = value;\n",
              "    return next.value.response;\n",
              "  });\n",
              "}\n",
              "\n",
              "/**\n",
              " * Generator function which is called between each async step of the upload\n",
              " * process.\n",
              " * @param {string} inputId Element ID of the input file picker element.\n",
              " * @param {string} outputId Element ID of the output display.\n",
              " * @return {!Iterable<!Object>} Iterable of next steps.\n",
              " */\n",
              "function* uploadFilesStep(inputId, outputId) {\n",
              "  const inputElement = document.getElementById(inputId);\n",
              "  inputElement.disabled = false;\n",
              "\n",
              "  const outputElement = document.getElementById(outputId);\n",
              "  outputElement.innerHTML = '';\n",
              "\n",
              "  const pickedPromise = new Promise((resolve) => {\n",
              "    inputElement.addEventListener('change', (e) => {\n",
              "      resolve(e.target.files);\n",
              "    });\n",
              "  });\n",
              "\n",
              "  const cancel = document.createElement('button');\n",
              "  inputElement.parentElement.appendChild(cancel);\n",
              "  cancel.textContent = 'Cancel upload';\n",
              "  const cancelPromise = new Promise((resolve) => {\n",
              "    cancel.onclick = () => {\n",
              "      resolve(null);\n",
              "    };\n",
              "  });\n",
              "\n",
              "  // Wait for the user to pick the files.\n",
              "  const files = yield {\n",
              "    promise: Promise.race([pickedPromise, cancelPromise]),\n",
              "    response: {\n",
              "      action: 'starting',\n",
              "    }\n",
              "  };\n",
              "\n",
              "  cancel.remove();\n",
              "\n",
              "  // Disable the input element since further picks are not allowed.\n",
              "  inputElement.disabled = true;\n",
              "\n",
              "  if (!files) {\n",
              "    return {\n",
              "      response: {\n",
              "        action: 'complete',\n",
              "      }\n",
              "    };\n",
              "  }\n",
              "\n",
              "  for (const file of files) {\n",
              "    const li = document.createElement('li');\n",
              "    li.append(span(file.name, {fontWeight: 'bold'}));\n",
              "    li.append(span(\n",
              "        `(${file.type || 'n/a'}) - ${file.size} bytes, ` +\n",
              "        `last modified: ${\n",
              "            file.lastModifiedDate ? file.lastModifiedDate.toLocaleDateString() :\n",
              "                                    'n/a'} - `));\n",
              "    const percent = span('0% done');\n",
              "    li.appendChild(percent);\n",
              "\n",
              "    outputElement.appendChild(li);\n",
              "\n",
              "    const fileDataPromise = new Promise((resolve) => {\n",
              "      const reader = new FileReader();\n",
              "      reader.onload = (e) => {\n",
              "        resolve(e.target.result);\n",
              "      };\n",
              "      reader.readAsArrayBuffer(file);\n",
              "    });\n",
              "    // Wait for the data to be ready.\n",
              "    let fileData = yield {\n",
              "      promise: fileDataPromise,\n",
              "      response: {\n",
              "        action: 'continue',\n",
              "      }\n",
              "    };\n",
              "\n",
              "    // Use a chunked sending to avoid message size limits. See b/62115660.\n",
              "    let position = 0;\n",
              "    do {\n",
              "      const length = Math.min(fileData.byteLength - position, MAX_PAYLOAD_SIZE);\n",
              "      const chunk = new Uint8Array(fileData, position, length);\n",
              "      position += length;\n",
              "\n",
              "      const base64 = btoa(String.fromCharCode.apply(null, chunk));\n",
              "      yield {\n",
              "        response: {\n",
              "          action: 'append',\n",
              "          file: file.name,\n",
              "          data: base64,\n",
              "        },\n",
              "      };\n",
              "\n",
              "      let percentDone = fileData.byteLength === 0 ?\n",
              "          100 :\n",
              "          Math.round((position / fileData.byteLength) * 100);\n",
              "      percent.textContent = `${percentDone}% done`;\n",
              "\n",
              "    } while (position < fileData.byteLength);\n",
              "  }\n",
              "\n",
              "  // All done.\n",
              "  yield {\n",
              "    response: {\n",
              "      action: 'complete',\n",
              "    }\n",
              "  };\n",
              "}\n",
              "\n",
              "scope.google = scope.google || {};\n",
              "scope.google.colab = scope.google.colab || {};\n",
              "scope.google.colab._files = {\n",
              "  _uploadFiles,\n",
              "  _uploadFilesContinue,\n",
              "};\n",
              "})(self);\n",
              "</script> "
            ],
            "text/plain": [
              "<IPython.core.display.HTML object>"
            ]
          },
          "metadata": {},
          "output_type": "display_data"
        },
        {
          "name": "stdout",
          "output_type": "stream",
          "text": [
            "Saving globalTemp.csv to globalTemp.csv\n",
            "+----------+-------------------+-----------------------------+-------+\n",
            "|        dt| AverageTemperature|AverageTemperatureUncertainty|Country|\n",
            "+----------+-------------------+-----------------------------+-------+\n",
            "|1743-11-01| 4.3839999999999995|                        2.294|  Åland|\n",
            "|1743-12-01|               null|                         null|  Åland|\n",
            "|1744-01-01|               null|                         null|  Åland|\n",
            "|1744-02-01|               null|                         null|  Åland|\n",
            "|1744-03-01|               null|                         null|  Åland|\n",
            "|1744-04-01|               1.53|                         4.68|  Åland|\n",
            "|1744-05-01|  6.702000000000001|                        1.789|  Åland|\n",
            "|1744-06-01| 11.609000000000002|                        1.577|  Åland|\n",
            "|1744-07-01|             15.342|                         1.41|  Åland|\n",
            "|1744-08-01|               null|                         null|  Åland|\n",
            "|1744-09-01|             11.702|                        1.517|  Åland|\n",
            "|1744-10-01|              5.477|                        1.862|  Åland|\n",
            "|1744-11-01|              3.407|                        1.425|  Åland|\n",
            "|1744-12-01|             -2.181|                        1.641|  Åland|\n",
            "|1745-01-01|              -3.85|                        1.841|  Åland|\n",
            "|1745-02-01| -6.574999999999998|                         1.36|  Åland|\n",
            "|1745-03-01|             -4.195|                        1.213|  Åland|\n",
            "|1745-04-01|-0.9660000000000002|                        1.172|  Åland|\n",
            "|1745-05-01|               null|                         null|  Åland|\n",
            "|1745-06-01|               null|                         null|  Åland|\n",
            "+----------+-------------------+-----------------------------+-------+\n",
            "only showing top 20 rows\n",
            "\n"
          ]
        }
      ],
      "source": [
        "from google.colab import files\n",
        "import pandas as pd\n",
        "\n",
        "# Upload the file\n",
        "uploaded = files.upload()\n",
        "\n",
        "# Save the uploaded file to the local file system\n",
        "filename = list(uploaded.keys())[0]  # Get the filename from the uploaded files\n",
        "with open(filename, 'wb') as f:\n",
        "    f.write(uploaded[filename])\n",
        "\n",
        "# Assuming you have a Spark session already created and named spark\n",
        "# Load the data using Spark\n",
        "df = spark.read.csv(filename, header=True, inferSchema=True)\n",
        "\n",
        "# Show some data to confirm it's loaded correctly\n",
        "df.show()\n"
      ]
    },
    {
      "cell_type": "markdown",
      "metadata": {
        "id": "iOrOBG3ubcJa"
      },
      "source": [
        "### For which country and during what year, the highest average temperature was observed?"
      ]
    },
    {
      "cell_type": "code",
      "execution_count": 16,
      "metadata": {
        "id": "b9VVYOcXba6C"
      },
      "outputs": [],
      "source": [
        "from pyspark.sql import SparkSession\n",
        "from pyspark.sql.functions import max\n",
        "\n",
        "# Initialize the Spark session\n",
        "spark = SparkSession.builder\\\n",
        "        .appName(\"Temperature Analysis\")\\\n",
        "        .getOrCreate()"
      ]
    },
    {
      "cell_type": "code",
      "execution_count": 17,
      "metadata": {
        "colab": {
          "base_uri": "https://localhost:8080/"
        },
        "id": "tBK5ZXPkcEFb",
        "outputId": "76e5ff6f-dab1-490a-8c44-18771c8d510a"
      },
      "outputs": [
        {
          "name": "stdout",
          "output_type": "stream",
          "text": [
            "+----------+------------------+-----------------------------+-------+\n",
            "|        dt|AverageTemperature|AverageTemperatureUncertainty|Country|\n",
            "+----------+------------------+-----------------------------+-------+\n",
            "|2012-07-01| 38.84200000000001|                        0.464| Kuwait|\n",
            "+----------+------------------+-----------------------------+-------+\n",
            "\n",
            "Highest Average Temperature Recorded:\n",
            "[Row(dt=datetime.date(2012, 7, 1), AverageTemperature=38.84200000000001, AverageTemperatureUncertainty=0.464, Country='Kuwait')]\n"
          ]
        }
      ],
      "source": [
        "max_temp_value = df.agg(max(\"AverageTemperature\")).collect()[0][0]\n",
        "\n",
        "# Filter the DataFrame to find the row(s) with this maximum temperature\n",
        "max_temp = df.filter(df['AverageTemperature'] == max_temp_value)\n",
        "\n",
        "# Show the result\n",
        "max_temp.show()\n",
        "\n",
        "# Optional: print in a formatted string\n",
        "print(f\"Highest Average Temperature Recorded:\\n{max_temp.collect()}\")"
      ]
    },
    {
      "cell_type": "markdown",
      "metadata": {
        "id": "lgWpkNNacZnv"
      },
      "source": [
        "### Analyze the data by country over the years, and name which are the top 10 countries with the biggest change in average temperature."
      ]
    },
    {
      "cell_type": "code",
      "execution_count": 18,
      "metadata": {
        "id": "UT-eGnq5cC5m"
      },
      "outputs": [],
      "source": [
        "from pyspark.sql.functions import col, year\n",
        "\n",
        "# Convert 'dt' to a date type and extract the year\n",
        "df = df.withColumn(\"Year\", year(col(\"dt\")))\n",
        "\n",
        "# Filter out rows with null average temperatures\n",
        "df = df.filter(col(\"AverageTemperature\").isNotNull())\n"
      ]
    },
    {
      "cell_type": "code",
      "execution_count": 19,
      "metadata": {
        "id": "ktWmyJkSdwEM"
      },
      "outputs": [],
      "source": [
        "from pyspark.sql.functions import min, max\n",
        "\n",
        "# Group by Country and Year, then aggregate\n",
        "min_temps = df.groupBy(\"Country\").agg(min(\"AverageTemperature\").alias(\"min_temp\"))\n",
        "max_temps = df.groupBy(\"Country\").agg(max(\"AverageTemperature\").alias(\"max_temp\"))\n"
      ]
    },
    {
      "cell_type": "code",
      "execution_count": 20,
      "metadata": {
        "id": "M8OHzkwsd14_"
      },
      "outputs": [],
      "source": [
        "from pyspark.sql.functions import abs\n",
        "\n",
        "# Join min and max temps on Country\n",
        "temp_change = min_temps.join(max_temps, \"Country\")\n",
        "\n",
        "# Calculate the temperature change\n",
        "temp_change = temp_change.withColumn(\"temp_change\", abs(col(\"max_temp\") - col(\"min_temp\")))\n"
      ]
    },
    {
      "cell_type": "code",
      "execution_count": 21,
      "metadata": {
        "colab": {
          "base_uri": "https://localhost:8080/"
        },
        "id": "vQnWy4yKd4D-",
        "outputId": "597b4242-57de-4973-a7d7-680048c12c61"
      },
      "outputs": [
        {
          "name": "stdout",
          "output_type": "stream",
          "text": [
            "+------------+-------------------+------------------+------------------+\n",
            "|     Country|           min_temp|          max_temp|       temp_change|\n",
            "+------------+-------------------+------------------+------------------+\n",
            "|  Kazakhstan|            -23.601|25.561999999999998|            49.163|\n",
            "|    Mongolia|-27.441999999999997|20.715999999999998|48.157999999999994|\n",
            "|      Russia|            -30.577|            16.893|             47.47|\n",
            "|      Canada|            -28.736|            14.796|            43.532|\n",
            "|  Uzbekistan|            -12.323|            30.375|            42.698|\n",
            "|Turkmenistan|             -8.443|            32.136|            40.579|\n",
            "|     Finland|              -21.2|            19.132|            40.332|\n",
            "|     Belarus|            -16.527|            22.811|            39.338|\n",
            "|     Ukraine|-14.724000000000002|            24.297|            39.021|\n",
            "|     Estonia|-16.551000000000002|22.331999999999997|38.882999999999996|\n",
            "+------------+-------------------+------------------+------------------+\n",
            "\n"
          ]
        }
      ],
      "source": [
        "top_10_countries = temp_change.orderBy(col(\"temp_change\").desc()).limit(10)\n",
        "\n",
        "# Show the top 10 countries with the biggest temperature change\n",
        "top_10_countries.show()\n"
      ]
    },
    {
      "cell_type": "markdown",
      "metadata": {
        "id": "mIOoKWnNeY_3"
      },
      "source": [
        "## Second Dataset"
      ]
    },
    {
      "cell_type": "code",
      "execution_count": 22,
      "metadata": {
        "colab": {
          "base_uri": "https://localhost:8080/",
          "height": 544
        },
        "id": "KhnD7SW_fV8G",
        "outputId": "0b9b7c4c-766f-401b-987c-ebde1ff2669a"
      },
      "outputs": [
        {
          "data": {
            "text/html": [
              "\n",
              "     <input type=\"file\" id=\"files-d0462033-4f94-4d2f-a9ea-6b0cf26e56a3\" name=\"files[]\" multiple disabled\n",
              "        style=\"border:none\" />\n",
              "     <output id=\"result-d0462033-4f94-4d2f-a9ea-6b0cf26e56a3\">\n",
              "      Upload widget is only available when the cell has been executed in the\n",
              "      current browser session. Please rerun this cell to enable.\n",
              "      </output>\n",
              "      <script>// Copyright 2017 Google LLC\n",
              "//\n",
              "// Licensed under the Apache License, Version 2.0 (the \"License\");\n",
              "// you may not use this file except in compliance with the License.\n",
              "// You may obtain a copy of the License at\n",
              "//\n",
              "//      http://www.apache.org/licenses/LICENSE-2.0\n",
              "//\n",
              "// Unless required by applicable law or agreed to in writing, software\n",
              "// distributed under the License is distributed on an \"AS IS\" BASIS,\n",
              "// WITHOUT WARRANTIES OR CONDITIONS OF ANY KIND, either express or implied.\n",
              "// See the License for the specific language governing permissions and\n",
              "// limitations under the License.\n",
              "\n",
              "/**\n",
              " * @fileoverview Helpers for google.colab Python module.\n",
              " */\n",
              "(function(scope) {\n",
              "function span(text, styleAttributes = {}) {\n",
              "  const element = document.createElement('span');\n",
              "  element.textContent = text;\n",
              "  for (const key of Object.keys(styleAttributes)) {\n",
              "    element.style[key] = styleAttributes[key];\n",
              "  }\n",
              "  return element;\n",
              "}\n",
              "\n",
              "// Max number of bytes which will be uploaded at a time.\n",
              "const MAX_PAYLOAD_SIZE = 100 * 1024;\n",
              "\n",
              "function _uploadFiles(inputId, outputId) {\n",
              "  const steps = uploadFilesStep(inputId, outputId);\n",
              "  const outputElement = document.getElementById(outputId);\n",
              "  // Cache steps on the outputElement to make it available for the next call\n",
              "  // to uploadFilesContinue from Python.\n",
              "  outputElement.steps = steps;\n",
              "\n",
              "  return _uploadFilesContinue(outputId);\n",
              "}\n",
              "\n",
              "// This is roughly an async generator (not supported in the browser yet),\n",
              "// where there are multiple asynchronous steps and the Python side is going\n",
              "// to poll for completion of each step.\n",
              "// This uses a Promise to block the python side on completion of each step,\n",
              "// then passes the result of the previous step as the input to the next step.\n",
              "function _uploadFilesContinue(outputId) {\n",
              "  const outputElement = document.getElementById(outputId);\n",
              "  const steps = outputElement.steps;\n",
              "\n",
              "  const next = steps.next(outputElement.lastPromiseValue);\n",
              "  return Promise.resolve(next.value.promise).then((value) => {\n",
              "    // Cache the last promise value to make it available to the next\n",
              "    // step of the generator.\n",
              "    outputElement.lastPromiseValue = value;\n",
              "    return next.value.response;\n",
              "  });\n",
              "}\n",
              "\n",
              "/**\n",
              " * Generator function which is called between each async step of the upload\n",
              " * process.\n",
              " * @param {string} inputId Element ID of the input file picker element.\n",
              " * @param {string} outputId Element ID of the output display.\n",
              " * @return {!Iterable<!Object>} Iterable of next steps.\n",
              " */\n",
              "function* uploadFilesStep(inputId, outputId) {\n",
              "  const inputElement = document.getElementById(inputId);\n",
              "  inputElement.disabled = false;\n",
              "\n",
              "  const outputElement = document.getElementById(outputId);\n",
              "  outputElement.innerHTML = '';\n",
              "\n",
              "  const pickedPromise = new Promise((resolve) => {\n",
              "    inputElement.addEventListener('change', (e) => {\n",
              "      resolve(e.target.files);\n",
              "    });\n",
              "  });\n",
              "\n",
              "  const cancel = document.createElement('button');\n",
              "  inputElement.parentElement.appendChild(cancel);\n",
              "  cancel.textContent = 'Cancel upload';\n",
              "  const cancelPromise = new Promise((resolve) => {\n",
              "    cancel.onclick = () => {\n",
              "      resolve(null);\n",
              "    };\n",
              "  });\n",
              "\n",
              "  // Wait for the user to pick the files.\n",
              "  const files = yield {\n",
              "    promise: Promise.race([pickedPromise, cancelPromise]),\n",
              "    response: {\n",
              "      action: 'starting',\n",
              "    }\n",
              "  };\n",
              "\n",
              "  cancel.remove();\n",
              "\n",
              "  // Disable the input element since further picks are not allowed.\n",
              "  inputElement.disabled = true;\n",
              "\n",
              "  if (!files) {\n",
              "    return {\n",
              "      response: {\n",
              "        action: 'complete',\n",
              "      }\n",
              "    };\n",
              "  }\n",
              "\n",
              "  for (const file of files) {\n",
              "    const li = document.createElement('li');\n",
              "    li.append(span(file.name, {fontWeight: 'bold'}));\n",
              "    li.append(span(\n",
              "        `(${file.type || 'n/a'}) - ${file.size} bytes, ` +\n",
              "        `last modified: ${\n",
              "            file.lastModifiedDate ? file.lastModifiedDate.toLocaleDateString() :\n",
              "                                    'n/a'} - `));\n",
              "    const percent = span('0% done');\n",
              "    li.appendChild(percent);\n",
              "\n",
              "    outputElement.appendChild(li);\n",
              "\n",
              "    const fileDataPromise = new Promise((resolve) => {\n",
              "      const reader = new FileReader();\n",
              "      reader.onload = (e) => {\n",
              "        resolve(e.target.result);\n",
              "      };\n",
              "      reader.readAsArrayBuffer(file);\n",
              "    });\n",
              "    // Wait for the data to be ready.\n",
              "    let fileData = yield {\n",
              "      promise: fileDataPromise,\n",
              "      response: {\n",
              "        action: 'continue',\n",
              "      }\n",
              "    };\n",
              "\n",
              "    // Use a chunked sending to avoid message size limits. See b/62115660.\n",
              "    let position = 0;\n",
              "    do {\n",
              "      const length = Math.min(fileData.byteLength - position, MAX_PAYLOAD_SIZE);\n",
              "      const chunk = new Uint8Array(fileData, position, length);\n",
              "      position += length;\n",
              "\n",
              "      const base64 = btoa(String.fromCharCode.apply(null, chunk));\n",
              "      yield {\n",
              "        response: {\n",
              "          action: 'append',\n",
              "          file: file.name,\n",
              "          data: base64,\n",
              "        },\n",
              "      };\n",
              "\n",
              "      let percentDone = fileData.byteLength === 0 ?\n",
              "          100 :\n",
              "          Math.round((position / fileData.byteLength) * 100);\n",
              "      percent.textContent = `${percentDone}% done`;\n",
              "\n",
              "    } while (position < fileData.byteLength);\n",
              "  }\n",
              "\n",
              "  // All done.\n",
              "  yield {\n",
              "    response: {\n",
              "      action: 'complete',\n",
              "    }\n",
              "  };\n",
              "}\n",
              "\n",
              "scope.google = scope.google || {};\n",
              "scope.google.colab = scope.google.colab || {};\n",
              "scope.google.colab._files = {\n",
              "  _uploadFiles,\n",
              "  _uploadFilesContinue,\n",
              "};\n",
              "})(self);\n",
              "</script> "
            ],
            "text/plain": [
              "<IPython.core.display.HTML object>"
            ]
          },
          "metadata": {},
          "output_type": "display_data"
        },
        {
          "name": "stdout",
          "output_type": "stream",
          "text": [
            "Saving CO2 emissions.csv to CO2 emissions.csv\n",
            "+--------------------+------------+-----------+-----------+-----------+-----------+-----------+-----------+-----------+-----------+-----------+-----------+-----------+-----------+-----------+-----------+-----------+-----------+-----------+-----------+-----------+-----------+-----------+-----------+-----------+-----------+-----------+-----------+-----------+-----------+-----------+-----------+-----------+-----------+-----------+-----------+-----------+-----------+-----------+-----------+-----------+-----------+-----------+-----------+-----------+-----------+-----------+-----------+-----------+-----------+-----------+-----------+-----------+-----------+-----------+-----------+-----------+----+----+----+----+\n",
            "|        Country Name|Country Code|       1960|       1961|       1962|       1963|       1964|       1965|       1966|       1967|       1968|       1969|       1970|       1971|       1972|       1973|       1974|       1975|       1976|       1977|       1978|       1979|       1980|       1981|       1982|       1983|       1984|       1985|       1986|       1987|       1988|       1989|       1990|       1991|       1992|       1993|       1994|       1995|       1996|       1997|       1998|       1999|       2000|       2001|       2002|       2003|       2004|       2005|       2006|       2007|       2008|       2009|       2010|       2011|       2012|       2013|       2014|2015|2016|2017|2018|\n",
            "+--------------------+------------+-----------+-----------+-----------+-----------+-----------+-----------+-----------+-----------+-----------+-----------+-----------+-----------+-----------+-----------+-----------+-----------+-----------+-----------+-----------+-----------+-----------+-----------+-----------+-----------+-----------+-----------+-----------+-----------+-----------+-----------+-----------+-----------+-----------+-----------+-----------+-----------+-----------+-----------+-----------+-----------+-----------+-----------+-----------+-----------+-----------+-----------+-----------+-----------+-----------+-----------+-----------+-----------+-----------+-----------+-----------+----+----+----+----+\n",
            "|               Aruba|         ABW|       null|       null|       null|       null|       null|       null|       null|       null|       null|       null|       null|       null|       null|       null|       null|       null|       null|       null|       null|       null|       null|       null|       null|       null|       null|       null|2.868319392|7.235198033|10.02617921| 10.6347326|26.37450321| 26.0461298| 21.4425588|22.00078616|21.03624511|20.77193616|20.31835337|20.42681771|20.58766915|20.31156677|26.19487524|25.93402441|25.67116178|26.42045209|26.51729342|27.20070778|26.94826047|  27.895574|26.23084664|25.91583295|24.67052887| 24.5058352|13.15554169|8.351294252|8.408362638|null|null|null|null|\n",
            "|         Afghanistan|         AFG|0.046059897|0.053604304|0.073764791|0.074232685|0.086292452|0.101467397|0.107636955|0.123734289| 0.11549774| 0.08682346|0.150290627|0.166042044| 0.13076385|0.136279785|0.155649444|0.168928649|0.154787206|0.182963616|0.163159571|0.168376671|0.132858608|0.151972881|0.164803883|0.203635582|0.234987713|0.297827727|0.270891121|0.271611659|0.248472561|0.235694613|0.213449805|0.187672724|0.099666474|0.089154036| 0.08003917|0.072698618|0.066044698|0.059648382| 0.05520717|0.042332597| 0.03850634|0.039002334|0.048715548|  0.0518296|0.039377828|0.052948215|0.063728472|0.085417506|0.154101422|0.241722682|0.293836994|0.412016938|0.350370581|0.315601773|0.299444991|null|null|null|null|\n",
            "|              Angola|         AGO|0.097471604|0.079038085|0.201289076|0.192534735|0.201003361|0.191528411|0.246412785|0.154911578|0.256315998|0.419550564|0.528697988|0.492302233|0.635214721|0.670624323|0.652023363|0.574693143|0.415850303|0.434755038|0.646179204|0.636944237|0.598717343|0.571201904|0.485251545|0.515071547|0.487395694|0.443121443|0.426768722|  0.5184278|0.445557344|0.423524277|0.420284254|0.405450105|0.400678653|0.430889258|0.281092579|0.769173426|0.712306341|0.489209377| 0.47137391|0.574083595|0.580352661|0.573047493|0.720768849|0.497975073|0.996165478|0.979740026|1.098883898|1.197843982|1.181526759|1.232494515|1.243405585|1.252789255|1.330843018|1.254617218|1.291328315|null|null|null|null|\n",
            "|             Albania|         ALB|1.258194928|1.374186047|1.439955964|1.181681144| 1.11174196|1.166099043|1.333055465|  1.3637463|1.519551277|1.558967572|1.753239905|1.989497923|2.515914398|2.303897417|1.849006691|1.910633637|2.013584562|2.275876391| 2.53062504|2.898208518| 1.93505831|2.693023914|2.624856785|2.683239919|2.694291374|2.658015382|2.665356221|2.414060815|2.331598531|2.783243075|1.678106654|  1.3122126|0.774724911|0.723790292|0.600203708|0.654537133|0.636625313| 0.49036506|0.560271437|0.960164412|0.978174681|1.053304176|1.229540709|1.412697196|1.376212735|1.412498211|1.302576367|1.322334855|1.484311139|1.495600199|1.578573584|1.803714725|1.692908325|1.749211079|1.978763312|null|null|null|null|\n",
            "|             Andorra|         AND|       null|       null|       null|       null|       null|       null|       null|       null|       null|       null|       null|       null|       null|       null|       null|       null|       null|       null|       null|       null|       null|       null|       null|       null|       null|       null|       null|       null|       null|       null|7.467335669|7.182456636|6.912053389|6.736054846|6.494200424|6.662051684|7.065071473|7.239712718|7.660783886|7.975454404|8.019284294|7.786950001|7.590615141|7.315760706|7.358624941|7.299871936|6.746218716|6.519465912|6.427886622|6.121652341|6.122594702|5.867129945|5.916596911|5.900752587|5.832169951|null|null|null|null|\n",
            "|          Arab World|         ARB|0.643689011|0.685150884|0.760854507|0.874941189|0.999097655|1.165705386|1.272650672|1.331404395|1.544942527|1.789913392|1.801245462|1.993486215|2.109871603|2.396799726|2.273440745|2.184263525|2.568710035|2.631628366| 2.74324133|2.842655116|3.069208819|2.907057909| 2.70111659|2.793356928|2.956318154|3.035558013|3.255536588|3.168821856|3.264489032|3.226127128|2.989008072|3.207224619|3.385246998| 3.63837855|3.644858894|3.398199765|3.304793683|3.124848492|3.329548276|3.309553392|3.684441272|3.590302965|3.588035581|3.779889011|4.051465169|4.168486256|4.268239866|4.100226273|4.390401434|4.542151451|4.615758201|4.537755236|4.813630727|4.650474168|4.860233832|null|null|null|null|\n",
            "|United Arab Emirates|         ARE|0.118757692| 0.10883674|0.163018351|0.175222592|0.132354958|0.146326865|0.159950399|5.383684807|6.785773552|100.6976695|64.74501378|75.98153209|70.48362784|77.12098728|66.46069916|56.05113796|61.29020795|51.84464328|52.58289939| 38.4518098|35.40411979|32.88162816|30.99646083|28.20499098|35.18821247|35.89096957| 32.0839896|30.55837249|29.21022992|31.02882617|27.95924521|28.93913532|27.86136845|  29.890451|31.40439759| 28.8469908|15.97008152|15.42443139| 28.7143215|26.22842771|35.67825923|30.49115342|24.15124891|28.55255307|27.70120802|25.36237265|23.63108943|22.43980121|22.82394719|21.90855608|19.44369027|19.07648878|19.81768422|18.95416379|23.30202251|null|null|null|null|\n",
            "|           Argentina|         ARG|2.367473032|2.442615898|2.522392105|2.316356332|2.538379303|2.641714344|2.792653799|2.858162297| 2.96985458|3.275850995|3.451159798|3.650078618|3.637858513|3.730791118|3.726698966|3.641822498|3.768774074|3.749871394|3.762750369|3.998733119|3.868853067|3.574967863|3.567086789|3.572042094|3.560142534| 3.31032707|   3.377245|3.669168725|3.820445568|3.629201904|3.426481983| 3.52770381|3.605749117|3.457164549|3.542095019|3.656645582|3.811457285|3.851202695|3.857870916|4.010698763|3.835573665|3.568599866|3.291547735| 3.52558427| 4.06905838|4.141236814|4.434821452|4.382668884|4.682912395|4.410889894|4.558499612|4.600290699|4.569383676|4.462903755|4.746797455|null|null|null|null|\n",
            "|             Armenia|         ARM|       null|       null|       null|       null|       null|       null|       null|       null|       null|       null|       null|       null|       null|       null|       null|       null|       null|       null|       null|       null|       null|       null|       null|       null|       null|       null|       null|       null|       null|       null|       null|       null|1.692473009|0.759983503|0.824155363| 1.05997746|0.809046419|1.032302975|1.081692124|0.975803629|1.128918604|1.161167684|1.003201493|1.136138307|1.214751524|1.460030477|1.481177962|1.726570171|1.911537642|1.509411878|1.465621895|1.710070765|1.976060074|1.899711734| 1.90275891|null|null|null|null|\n",
            "|      American Samoa|         ASM|       null|       null|       null|       null|       null|       null|       null|       null|       null|       null|       null|       null|       null|       null|       null|       null|       null|       null|       null|       null|       null|       null|       null|       null|       null|       null|       null|       null|       null|       null|       null|       null|       null|       null|       null|       null|       null|       null|       null|       null|       null|       null|       null|       null|       null|       null|       null|       null|       null|       null|       null|       null|       null|       null|       null|null|null|null|null|\n",
            "| Antigua and Barbuda|         ATG|0.662642982|0.849084497|1.796794064|1.446821285|1.540135072|2.473585495|5.613448493|8.912847222|15.31343284|19.08331058|6.886077081|6.238223734|5.406990864|4.710273171|6.053204097|9.883268863|5.580272532| 6.39051801|6.701462004|5.535809488| 1.94729174| 1.45543755|4.049249117|1.177305658|2.073948392|3.573357026| 3.62388641|4.053725403|4.265352382|4.292944302| 4.23352225|3.977164337|3.858476917| 3.87997941|3.732497664|3.735788316|3.878986619|3.962335507|3.995303753|4.033068153|4.123971095| 4.09566526|4.293313704|4.620874526|4.778147909|4.806998084|4.913644367|5.136472571|5.194500314|5.446757355|5.539567509|5.363407474|5.418446532|5.360453467|5.377648546|null|null|null|null|\n",
            "|           Australia|         AUS|8.582936643|8.641569017|8.835688047|9.226439909|9.759073431|10.62232139|10.32809244| 10.9556248|11.21016771|11.60055435|11.80289054|11.80911757|11.95163155|12.77968685|12.55966873|12.65989981|12.41679178|13.23189614|14.06985862|14.12909198|15.02491601|15.43250084|15.42493181|14.64008413| 15.2209753| 15.3084102|14.98057315| 15.7469578|15.79616778|16.51986292|15.45288167|15.12796621|15.31776851| 15.7014518|15.57658628|15.59651881|16.50180039|16.51427321|16.93569585|17.19029769|17.20060983|16.73336743|17.37045177|16.90195895|17.02651535|17.16971145|17.65139831|17.86526004|18.16087566|18.20018196|17.74084505|17.53887776|17.07290468|16.09583317|15.38876602|null|null|null|null|\n",
            "|             Austria|         AUT|4.373318828|4.496361641|4.755361673|5.155193747|5.391003988|5.252196533|5.361724683|5.417736727|5.711110104|6.006325178|6.788807307|6.953651912|7.448516814|7.930866985|7.562697278|7.176844855|7.721250012|7.428063284|7.601371804|8.158846402|   6.928479|7.416160614|7.112124941|6.874373273|7.214278667|7.230766353|7.144304852|7.623419815|7.032030698|7.102448997|7.513246156|7.944096184|7.226236428|7.223017309|7.189264701|7.521516107|7.938008299|7.863667996|7.981004261|7.741130615|7.774259739|8.192769898|8.299115796|8.889562334|8.858363703|9.020169598|8.727297872|8.406418936|8.295095978|7.518751102|8.071131802|7.748134305|7.387077163|7.368748145| 6.86986793|null|null|null|null|\n",
            "|          Azerbaijan|         AZE|       null|       null|       null|       null|       null|       null|       null|       null|       null|       null|       null|       null|       null|       null|       null|       null|       null|       null|       null|       null|       null|       null|       null|       null|       null|       null|       null|       null|       null|       null|       null|       null| 7.61863709|6.464585857|5.525358563|4.337414444|4.026472755|3.803022741| 4.00297561|3.579835395|3.666271029|3.547105484|3.623944346|3.718169927|3.863229639|4.091801927|4.616299863|  3.5553401|4.051383481|3.565668218|3.388225879|3.646179877| 3.82487717|3.785068836|3.931560609|null|null|null|null|\n",
            "|             Burundi|         BDI|       null|       null|0.015206992|0.016160066|0.015833023| 0.01191406| 0.01512058|0.014740464|0.016586591|0.021623037|0.018039962| 0.02092206|0.020693856|0.020494678|0.025334488|0.020974295|0.023533697|0.025910488|0.026234565|0.027411289|0.035629468|0.037336898|0.036387481|0.046159711|0.048130813|0.049131807|0.048473582|0.049993825|0.044267124|0.050698823|0.038597042|0.043008469|0.038217221|0.039393228|0.039969978|0.039978645|0.040062492|0.040797127|0.040307438|0.040297088|0.042395011|0.031323575|0.031548442|0.023205146|0.027569697|0.020747407|0.024365963|0.023555045|0.023219419|0.022462399|0.024260032| 0.02676196|0.030296973| 0.03017577|0.044485376|null|null|null|null|\n",
            "|             Belgium|         BEL|9.941594074|10.10387199|10.64118963|11.38692874|11.05365472|11.14165555|11.04201943|11.21725675|12.32568713|12.81544961|13.01017881|12.56342518|13.47269526| 14.2554864|13.83696555| 12.4583039|13.24167979|12.87543872|13.80705794|14.23923382|13.72329627|12.57955507|11.92668478|10.31207942|10.69696639|10.59744025|10.43154171|10.44717278|10.13514385|10.81351494|10.63967167|11.09099988|11.14648251|10.67503455| 11.1051094|11.08115205|11.62383425|11.32885202|11.60191455|11.17302675| 11.2296677|11.13371551| 10.3854951|10.88211417|10.66129022|10.35539299|  10.151039|9.744777191|9.751984809|9.249615685|10.17146522|9.054330011| 8.56287875|8.689543091|8.328159898|null|null|null|null|\n",
            "|               Benin|         BEN|0.066354063| 0.05204863|0.054208805|0.047588561|0.055303533|0.057114995|0.042382648|0.052284076|0.055170709|0.070750258|0.096952622|0.098556326|0.127712648|0.122481633|0.127701408|0.135891142|0.077784148|0.086510056|0.103019122|0.101339606|0.139097135|0.112310111|0.125105341|0.112552906|0.120856597|0.173986403|0.155688061|0.118857275|0.118496584|0.130855167|0.142157591|0.159512217|0.168501162|0.205206743|0.221397671|0.224780453|0.207591276|0.193809928|0.187593089|0.234411619|0.232860969|0.256497596|0.285000234|0.313037269|0.323642156|0.299985405|0.471267009|0.531738987|0.507237393|0.521063185|0.553283259|0.559693354|0.562347006|0.580960914|0.614213852|null|null|null|null|\n",
            "|        Burkina Faso|         BFA|0.009111902|0.018729901|0.017003116|0.017504203|0.021575284|0.019841271|0.019533659|0.019216851|0.018894962|0.021889868|0.025426341|0.026268913|0.027698405|0.028443214|0.033998445| 0.03574919|0.033314914| 0.03896836|0.053341702| 0.06100989| 0.06342019|0.079795452|0.080427283| 0.08092381|0.061836945|0.061686819|0.060571874|0.063518718|0.066263378|0.095737173|0.066173051|0.069287423|0.067840845|  0.0656434|0.065745043|0.062147134|0.068229866|0.075639822|0.078563833| 0.08255275|0.089716851|0.083504269|0.081733493|0.085194017|0.084705971|0.083875344|0.098375847|0.115526282|0.130556622|0.127633338|0.125717252|0.137496219|0.158663009|0.179132409|0.162018806|null|null|null|null|\n",
            "|          Bangladesh|         BGD|       null|       null|       null|       null|       null|       null|       null|       null|       null|       null|       null|       null|0.051914946|0.066302743|0.066692361| 0.06829413|0.076304643|0.077572579|0.078115625|0.083903855|0.093755743|0.094739619|0.099981186|0.093233483|0.100553935|0.109813432|0.119727919|0.120625234|0.134150581| 0.12986798|0.146281294|0.146609266|0.159575353|0.153104602|0.163272688|0.192205167|0.198152233|0.202365814|0.190182468| 0.19558517|0.211802225|0.242020016|0.246756218| 0.25660216|0.266823041|0.275246594|0.299529173|0.301630726|0.332727819|0.357158767|0.393936699|0.412011186|0.433487963|0.442400828|0.459141965|null|null|null|null|\n",
            "|            Bulgaria|         BGR|2.833901121|3.269920074|3.835891818|4.259780927|5.262987916|5.645651942|5.905436715|6.638369161|7.112214403|7.869932816|7.213424372|7.532552676|7.715656701|7.983550221|8.210958036|8.377877479|8.347946173|8.628766462|9.236529547|8.968132006|8.744238667| 9.03643153|10.10727531|10.10833662|9.749961471|9.992783476|10.21729994|  10.214134|9.718843491|9.771261867| 8.54301079|6.666757565|6.347137362| 8.00979638|6.414520789|6.900326395|6.763241038|6.209849583|5.934325293|5.356718076|5.328034342|5.800066474|5.695266947|6.084370085|6.064891808|6.256282044|6.445333272|6.925435282|6.772087541|5.731193724|5.964900206| 6.71538056|6.119456526|5.450695963|5.871615869|null|null|null|null|\n",
            "+--------------------+------------+-----------+-----------+-----------+-----------+-----------+-----------+-----------+-----------+-----------+-----------+-----------+-----------+-----------+-----------+-----------+-----------+-----------+-----------+-----------+-----------+-----------+-----------+-----------+-----------+-----------+-----------+-----------+-----------+-----------+-----------+-----------+-----------+-----------+-----------+-----------+-----------+-----------+-----------+-----------+-----------+-----------+-----------+-----------+-----------+-----------+-----------+-----------+-----------+-----------+-----------+-----------+-----------+-----------+-----------+-----------+----+----+----+----+\n",
            "only showing top 20 rows\n",
            "\n"
          ]
        }
      ],
      "source": [
        "from google.colab import files\n",
        "import pandas as pd\n",
        "\n",
        "# Upload the file\n",
        "uploaded = files.upload()\n",
        "\n",
        "# Save the uploaded file to the local file system\n",
        "filename = list(uploaded.keys())[0]  # Get the filename from the uploaded files\n",
        "with open(filename, 'wb') as f:\n",
        "    f.write(uploaded[filename])\n",
        "\n",
        "# Assuming you have a Spark session already created and named spark\n",
        "# Load the data using Spark\n",
        "df_co2 = spark.read.csv(filename, header=True, inferSchema=True)\n",
        "\n",
        "# Show some data to confirm it's loaded correctly\n",
        "df_co2.show()"
      ]
    },
    {
      "cell_type": "markdown",
      "metadata": {
        "id": "I0jAivrgf4Gi"
      },
      "source": [
        "### Merge the two datasets by country, and keep the data from 1960 to 2014.\n"
      ]
    },
    {
      "cell_type": "code",
      "execution_count": 23,
      "metadata": {
        "colab": {
          "base_uri": "https://localhost:8080/"
        },
        "id": "PsXqaCYveaeP",
        "outputId": "1865d559-ad5b-4ade-950a-f98e787eb4c7"
      },
      "outputs": [
        {
          "name": "stdout",
          "output_type": "stream",
          "text": [
            "+----------+------------------+-----------------------------+-------+----+\n",
            "|        dt|AverageTemperature|AverageTemperatureUncertainty|Country|Year|\n",
            "+----------+------------------+-----------------------------+-------+----+\n",
            "|1743-11-01|4.3839999999999995|                        2.294|  Åland|1743|\n",
            "|1744-04-01|              1.53|                         4.68|  Åland|1744|\n",
            "|1744-05-01| 6.702000000000001|                        1.789|  Åland|1744|\n",
            "|1744-06-01|11.609000000000002|                        1.577|  Åland|1744|\n",
            "|1744-07-01|            15.342|                         1.41|  Åland|1744|\n",
            "+----------+------------------+-----------------------------+-------+----+\n",
            "only showing top 5 rows\n",
            "\n"
          ]
        }
      ],
      "source": [
        "from pyspark.sql.functions import col, year\n",
        "\n",
        "# Assuming `dt` is a string that represents dates, first convert `dt` to date type if not already done\n",
        "df_temperature = df.withColumn(\"dt\", col(\"dt\").cast(\"date\"))\n",
        "\n",
        "# Extract year from the `dt` column if it hasn't been done already\n",
        "df_temperature = df_temperature.withColumn(\"Year\", year(col(\"dt\")))\n",
        "\n",
        "# Confirm the columns\n",
        "df_temperature.show(5)"
      ]
    },
    {
      "cell_type": "code",
      "execution_count": 24,
      "metadata": {
        "colab": {
          "base_uri": "https://localhost:8080/"
        },
        "id": "hLjhKlSahS5h",
        "outputId": "1b43fc56-d9e5-47f4-a8b7-e768a6c15e37"
      },
      "outputs": [
        {
          "name": "stdout",
          "output_type": "stream",
          "text": [
            "+-----------+-------------+----+\n",
            "|    Country|CO2_emissions|Year|\n",
            "+-----------+-------------+----+\n",
            "|      Aruba|         null|1960|\n",
            "|Afghanistan|  0.046059897|1960|\n",
            "|     Angola|  0.097471604|1960|\n",
            "|    Albania|  1.258194928|1960|\n",
            "|    Andorra|         null|1960|\n",
            "+-----------+-------------+----+\n",
            "only showing top 5 rows\n",
            "\n"
          ]
        }
      ],
      "source": [
        "from pyspark.sql.functions import lit\n",
        "\n",
        "# Create the melted DataFrame for CO2 emissions\n",
        "years = [str(year) for year in range(1960, 2015)]  # List of years as strings\n",
        "df_co2_long = None\n",
        "\n",
        "for year in years:\n",
        "    temp_df = df_co2.select(col(\"Country Name\").alias(\"Country\"),\n",
        "                            col(year).alias(\"CO2_emissions\"),\n",
        "                            lit(int(year)).alias(\"Year\").cast('integer'))  # Ensure Year is an integer\n",
        "    df_co2_long = temp_df if df_co2_long is None else df_co2_long.union(temp_df)\n",
        "\n",
        "df_co2_long.show(5)\n"
      ]
    },
    {
      "cell_type": "code",
      "execution_count": 25,
      "metadata": {
        "colab": {
          "base_uri": "https://localhost:8080/"
        },
        "id": "buksCt8liDmE",
        "outputId": "993927a9-5e11-47ca-c258-fd469dd95633"
      },
      "outputs": [
        {
          "name": "stdout",
          "output_type": "stream",
          "text": [
            "+-----------+----+----------+------------------+-----------------------------+-------------+\n",
            "|    Country|Year|        dt|AverageTemperature|AverageTemperatureUncertainty|CO2_emissions|\n",
            "+-----------+----+----------+------------------+-----------------------------+-------------+\n",
            "|Afghanistan|1960|1960-01-01|             2.262|           0.5720000000000001|  0.046059897|\n",
            "|Afghanistan|1960|1960-02-01| 7.007999999999999|                         0.82|  0.046059897|\n",
            "|Afghanistan|1960|1960-03-01| 5.832000000000002|                        0.583|  0.046059897|\n",
            "|Afghanistan|1960|1960-04-01|12.312000000000001|                        0.341|  0.046059897|\n",
            "|Afghanistan|1960|1960-05-01|            18.853|                        0.504|  0.046059897|\n",
            "+-----------+----+----------+------------------+-----------------------------+-------------+\n",
            "only showing top 5 rows\n",
            "\n"
          ]
        }
      ],
      "source": [
        "df_merged = df_temperature.join(df_co2_long, [\"Country\", \"Year\"], \"inner\")\n",
        "df_merged.show(5)"
      ]
    },
    {
      "cell_type": "code",
      "execution_count": 26,
      "metadata": {
        "colab": {
          "base_uri": "https://localhost:8080/"
        },
        "id": "KIkvG33TiIXL",
        "outputId": "b6457dad-b696-4477-9211-19b5801c4cd6"
      },
      "outputs": [
        {
          "name": "stdout",
          "output_type": "stream",
          "text": [
            "+-----------+----+----------+------------------+-----------------------------+-------------+\n",
            "|    Country|Year|        dt|AverageTemperature|AverageTemperatureUncertainty|CO2_emissions|\n",
            "+-----------+----+----------+------------------+-----------------------------+-------------+\n",
            "|Afghanistan|1960|1960-01-01|             2.262|           0.5720000000000001|  0.046059897|\n",
            "|Afghanistan|1960|1960-02-01| 7.007999999999999|                         0.82|  0.046059897|\n",
            "|Afghanistan|1960|1960-03-01| 5.832000000000002|                        0.583|  0.046059897|\n",
            "|Afghanistan|1960|1960-04-01|12.312000000000001|                        0.341|  0.046059897|\n",
            "|Afghanistan|1960|1960-05-01|            18.853|                        0.504|  0.046059897|\n",
            "|Afghanistan|1960|1960-06-01|            25.436|                         0.39|  0.046059897|\n",
            "|Afghanistan|1960|1960-07-01|              26.6|                        0.287|  0.046059897|\n",
            "|Afghanistan|1960|1960-08-01|            25.749|                        0.463|  0.046059897|\n",
            "|Afghanistan|1960|1960-09-01|            20.537|                        0.277|  0.046059897|\n",
            "|Afghanistan|1960|1960-10-01|             14.27|                         0.22|  0.046059897|\n",
            "|Afghanistan|1960|1960-11-01|             7.155|                         0.21|  0.046059897|\n",
            "|Afghanistan|1960|1960-12-01|             1.811|                        0.635|  0.046059897|\n",
            "|Afghanistan|1961|1961-01-01|             1.482|                        0.451|  0.053604304|\n",
            "|Afghanistan|1961|1961-02-01|              1.59|                        0.488|  0.053604304|\n",
            "|Afghanistan|1961|1961-03-01| 9.260000000000002|                        0.163|  0.053604304|\n",
            "|Afghanistan|1961|1961-04-01|            12.818|           0.6940000000000001|  0.053604304|\n",
            "|Afghanistan|1961|1961-05-01|            21.318|                        0.201|  0.053604304|\n",
            "|Afghanistan|1961|1961-06-01|            24.656|                        0.407|  0.053604304|\n",
            "|Afghanistan|1961|1961-07-01|27.363000000000003|                        0.365|  0.053604304|\n",
            "|Afghanistan|1961|1961-08-01|            25.263|                        0.325|  0.053604304|\n",
            "+-----------+----+----------+------------------+-----------------------------+-------------+\n",
            "only showing top 20 rows\n",
            "\n"
          ]
        }
      ],
      "source": [
        "# Filter the merged DataFrame to ensure the data range is correct\n",
        "df_merged = df_merged.filter((col(\"Year\") >= 1960) & (col(\"Year\") <= 2014))\n",
        "df_cleaned = df_merged.na.drop()\n",
        "# Show the resulting DataFrame to confirm the range\n",
        "df_merged.show()\n"
      ]
    },
    {
      "cell_type": "markdown",
      "metadata": {
        "id": "Xkkmb5IUjVMs"
      },
      "source": [
        "### Correlation between CO2 emissions and temperature change?\n"
      ]
    },
    {
      "cell_type": "code",
      "execution_count": 27,
      "metadata": {
        "colab": {
          "base_uri": "https://localhost:8080/"
        },
        "id": "YruNu4VW-Ffa",
        "outputId": "71610abc-8405-444c-9fd0-2d592d072a47"
      },
      "outputs": [
        {
          "name": "stdout",
          "output_type": "stream",
          "text": [
            "Correlation between Annual Temperature Range and CO2 Emissions: 0.27851302592597854\n"
          ]
        }
      ],
      "source": [
        "from pyspark.sql import SparkSession\n",
        "from pyspark.sql.functions import col, max, min, avg\n",
        "\n",
        "# Assuming Spark session is already started\n",
        "spark = SparkSession.builder.appName(\"Annual Temp and CO2 Correlation\").getOrCreate()\n",
        "\n",
        "# Calculate the annual temperature range (max temp - min temp) for each country and year\n",
        "temp_range = df_merged.groupBy(\"Country\", \"Year\").agg(\n",
        "    (max(\"AverageTemperature\") - min(\"AverageTemperature\")).alias(\"TempRange\")\n",
        ")\n",
        "\n",
        "# Calculate the annual average CO2 emissions for each country and year\n",
        "co2_avg = df_merged.groupBy(\"Country\", \"Year\").agg(\n",
        "    avg(\"CO2_emissions\").alias(\"AvgCO2Emissions\")\n",
        ")\n",
        "\n",
        "# Join the temperature range and CO2 dataframes on Country and Year\n",
        "df_final = temp_range.join(co2_avg, [\"Country\", \"Year\"])\n",
        "\n",
        "# Calculate the Pearson correlation coefficient between annual temperature range and CO2 emissions\n",
        "correlation = df_final.stat.corr(\"TempRange\", \"AvgCO2Emissions\")\n",
        "print(f\"Correlation between Annual Temperature Range and CO2 Emissions: {correlation}\")"
      ]
    }
  ],
  "metadata": {
    "colab": {
      "provenance": []
    },
    "kernelspec": {
      "display_name": "Python 3",
      "name": "python3"
    },
    "language_info": {
      "name": "python"
    }
  },
  "nbformat": 4,
  "nbformat_minor": 0
}
